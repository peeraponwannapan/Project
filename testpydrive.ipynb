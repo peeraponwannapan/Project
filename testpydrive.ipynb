{
  "nbformat": 4,
  "nbformat_minor": 0,
  "metadata": {
    "colab": {
      "name": "testpydrive.ipynb",
      "provenance": [],
      "collapsed_sections": [],
      "toc_visible": true,
      "mount_file_id": "1uL2xJ9fPv2ikrApxND3kjAXQ0tLYgIlP",
      "authorship_tag": "ABX9TyM+YHHFsFNB1lUtHE+ir2rd",
      "include_colab_link": true
    },
    "kernelspec": {
      "name": "python3",
      "display_name": "Python 3"
    },
    "accelerator": "GPU"
  },
  "cells": [
    {
      "cell_type": "markdown",
      "metadata": {
        "id": "view-in-github",
        "colab_type": "text"
      },
      "source": [
        "<a href=\"https://colab.research.google.com/github/peeraponwannapan/Project/blob/master/testpydrive.ipynb\" target=\"_parent\"><img src=\"https://colab.research.google.com/assets/colab-badge.svg\" alt=\"Open In Colab\"/></a>"
      ]
    },
    {
      "cell_type": "code",
      "metadata": {
        "id": "U9mk_j3HRebR",
        "colab_type": "code",
        "colab": {}
      },
      "source": [
        "!pip install -U -q PyDrive"
      ],
      "execution_count": 0,
      "outputs": []
    },
    {
      "cell_type": "code",
      "metadata": {
        "id": "_lBzzBdSWc-E",
        "colab_type": "code",
        "colab": {}
      },
      "source": [
        "from google.colab import drive\n",
        "drive.mount('/content/drive',force_remount=True)"
      ],
      "execution_count": 0,
      "outputs": []
    },
    {
      "cell_type": "code",
      "metadata": {
        "id": "W_rnwkIpZ-jM",
        "colab_type": "code",
        "outputId": "58defaa2-e8b8-4a08-958e-8720827a35e4",
        "colab": {
          "base_uri": "https://localhost:8080/",
          "height": 34
        }
      },
      "source": [
        "import tensorflow as tf\n",
        "import os\n",
        "a= input('ID:')\n",
        "b = os.path.join(\"/content\",a)\n",
        "c = os.path.join(\"/content/drive/My Drive/DATASET\",a)\n",
        "tf.gfile.MkDir(b)\n",
        "tf.gfile.MkDir(c)"
      ],
      "execution_count": 0,
      "outputs": [
        {
          "output_type": "stream",
          "text": [
            "ID:6040200618 Charudetch Kor\n"
          ],
          "name": "stdout"
        }
      ]
    },
    {
      "cell_type": "code",
      "metadata": {
        "id": "NvkGu3yb5pgG",
        "colab_type": "code",
        "colab": {}
      },
      "source": [
        "from google.colab import files\n",
        "files.upload()"
      ],
      "execution_count": 0,
      "outputs": []
    },
    {
      "cell_type": "code",
      "metadata": {
        "id": "FHV7md6zSGzB",
        "colab_type": "code",
        "colab": {}
      },
      "source": [
        "from google.colab import files\n",
        "from pydrive.auth import GoogleAuth\n",
        "from pydrive.drive import GoogleDrive\n",
        "from google.colab import auth\n",
        "from oauth2client.client import GoogleCredentials\n",
        "import zipfile\n",
        "import os\n",
        "import sys\n",
        "zipname = a\n",
        "folder_ID = '1TrvwGczDxNxutz9dmdWD5FBs9TdXUemJ'\n",
        "folder_metadata = {\n",
        "    \n",
        "    #'title' : test1,\n",
        "    'parents':[{'id':folder_ID,'kind': \"drive#fileLink\"}],\n",
        "    # The mimetype defines this new file as a folder, so don't change this.\n",
        "    #'mimeType' : 'application/vnd.google-apps.folder'\n",
        "}\n",
        "def zipfolder(foldername, target_dir):            \n",
        "    zipobj = zipfile.ZipFile(foldername + '.zip', 'w', zipfile.ZIP_DEFLATED)\n",
        "    rootlen = len(target_dir) + 1\n",
        "    for base, dirs, files in os.walk(target_dir):\n",
        "        for file in files:\n",
        "            fn = os.path.join(base, file)\n",
        "            zipobj.write(fn, fn[rootlen:])\n",
        "\n",
        "zipfolder(zipname, os.path.join(\"/content/\",a))\n",
        "\n",
        "# 1. Authenticate and create the PyDrive client.\n",
        "auth.authenticate_user()\n",
        "gauth = GoogleAuth()\n",
        "gauth.credentials = GoogleCredentials.get_application_default()\n",
        "drive = GoogleDrive(gauth)\n",
        "\n",
        "# 2. Create & upload a file text file.\n",
        "file1 = drive.CreateFile(folder_metadata)\n",
        "file1.SetContentFile(zipname+\".zip\")\n",
        "file1.Upload()"
      ],
      "execution_count": 0,
      "outputs": []
    },
    {
      "cell_type": "code",
      "metadata": {
        "id": "tEPbWyh9WEGa",
        "colab_type": "code",
        "colab": {}
      },
      "source": [
        "import os, zipfile\n",
        "\n",
        "dir_name = \"/content/drive/My Drive/DATASET/\"+a\n",
        "extension = \".zip\"\n",
        "colab = \"/content/drive/My Drive/DATASET/\"+a+\".zip\"\n",
        "delete_filepath = \"/content/drive/My Drive/DATASET/\"+a+\".zip\"\n",
        "zip_ref = zipfile.ZipFile(colab,'r')\n",
        "zip_ref.extractall(dir_name)\n",
        "os.remove(delete_filepath)\n",
        "zip_ref.close()"
      ],
      "execution_count": 0,
      "outputs": []
    },
    {
      "cell_type": "code",
      "metadata": {
        "id": "wSCN_i5MY4Mt",
        "colab_type": "code",
        "colab": {}
      },
      "source": [
        ""
      ],
      "execution_count": 0,
      "outputs": []
    },
    {
      "cell_type": "code",
      "metadata": {
        "id": "vwSZfkbEWbOV",
        "colab_type": "code",
        "colab": {}
      },
      "source": [
        ""
      ],
      "execution_count": 0,
      "outputs": []
    }
  ]
}