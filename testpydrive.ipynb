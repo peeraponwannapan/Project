{
  "nbformat": 4,
  "nbformat_minor": 0,
  "metadata": {
    "colab": {
      "name": "testpydrive.ipynb",
      "provenance": [],
      "collapsed_sections": [],
      "toc_visible": true,
      "authorship_tag": "ABX9TyNWnAxnk3yVHTP+FAsKYkxZ",
      "include_colab_link": true
    },
    "kernelspec": {
      "name": "python3",
      "display_name": "Python 3"
    },
    "accelerator": "GPU"
  },
  "cells": [
    {
      "cell_type": "markdown",
      "metadata": {
        "id": "view-in-github",
        "colab_type": "text"
      },
      "source": [
        "<a href=\"https://colab.research.google.com/github/peeraponwannapan/Project/blob/master/testpydrive.ipynb\" target=\"_parent\"><img src=\"https://colab.research.google.com/assets/colab-badge.svg\" alt=\"Open In Colab\"/></a>"
      ]
    },
    {
      "cell_type": "code",
      "metadata": {
        "id": "U9mk_j3HRebR"
      },
      "source": [
        "!pip install -U -q PyDrive"
      ],
      "execution_count": null,
      "outputs": []
    },
    {
      "cell_type": "markdown",
      "metadata": {
        "id": "wTmvcOQSUaMA"
      },
      "source": [
        "Step 1 :\n",
        "Mount your Drive"
      ]
    },
    {
      "cell_type": "code",
      "metadata": {
        "id": "_lBzzBdSWc-E",
        "outputId": "c0f30782-d954-442c-c923-6b7e05361e3f",
        "colab": {
          "base_uri": "https://localhost:8080/"
        }
      },
      "source": [
        "from google.colab import drive\n",
        "drive.mount('/content/drive')"
      ],
      "execution_count": 3,
      "outputs": [
        {
          "output_type": "stream",
          "text": [
            "Mounted at /content/drive\n"
          ],
          "name": "stdout"
        }
      ]
    },
    {
      "cell_type": "markdown",
      "metadata": {
        "id": "xhi0nwxfUfZv"
      },
      "source": [
        "Step 2:Insert StudentID Name and Lastname"
      ]
    },
    {
      "cell_type": "code",
      "metadata": {
        "id": "W_rnwkIpZ-jM",
        "cellView": "form",
        "outputId": "9b77ce8f-9f9a-47e5-9b41-df054c109863",
        "colab": {
          "base_uri": "https://localhost:8080/"
        }
      },
      "source": [
        "#@title Student form fields\n",
        "StudentID = \"\" #@param {type: \"string\"}\n",
        "StudentName = \"\" #@param {type: \"string\"}\n",
        "StudentLastName = \"\" #@param {type: \"string\"}\n",
        "import tensorflow as tf\n",
        "import os\n",
        "\n",
        "a = StudentID+\" \"+StudentName+\" \"+StudentLastName\n",
        "print(a)\n",
        "\n",
        "b = os.path.join(\"/content\",a)\n",
        "tf.io.gfile.mkdir(b)"
      ],
      "execution_count": 14,
      "outputs": [
        {
          "output_type": "stream",
          "text": [
            "6040203555111 sadasdasdghfgh asdsadafghfgh\n"
          ],
          "name": "stdout"
        }
      ]
    },
    {
      "cell_type": "markdown",
      "metadata": {
        "id": "01YDTwSZUn7V"
      },
      "source": [
        "Step 3 : Copy FloderID your Drive\n",
        "\n",
        "Example:\n",
        "https://drive.google.com/drive/u/0/folders/\"folderID\""
      ]
    },
    {
      "cell_type": "code",
      "metadata": {
        "id": "NAj2nPC1WzAc",
        "cellView": "form"
      },
      "source": [
        "#@title Insert Foldername and Folder ID from Gdrive\n",
        "folder_Name = \"\" #@param {type: \"string\"}\n",
        "folder_ID = \"\" #@param {type: \"string\"}\n",
        "c = os.path.join(\"/content/drive/My Drive/\"+folder_Name,a)\n",
        "tf.io.gfile.mkdir(c)"
      ],
      "execution_count": 16,
      "outputs": []
    },
    {
      "cell_type": "markdown",
      "metadata": {
        "id": "G6DS4hteTlPO"
      },
      "source": [
        "Step 4 : Upload image to FolderColab"
      ]
    },
    {
      "cell_type": "code",
      "metadata": {
        "id": "FHV7md6zSGzB",
        "cellView": "form"
      },
      "source": [
        "#@title Step 5: Run This\n",
        "\n",
        "from google.colab import files\n",
        "from pydrive.auth import GoogleAuth\n",
        "from pydrive.drive import GoogleDrive\n",
        "from google.colab import auth\n",
        "from oauth2client.client import GoogleCredentials\n",
        "import zipfile\n",
        "import os\n",
        "import sys\n",
        "zipname = a\n",
        "#folder_ID = '1TrvwGczDxNxutz9dmdWD5FBs9TdXUemJ'\n",
        "folder_metadata = {\n",
        "    \n",
        "    #'title' : test1,\n",
        "    'parents':[{'id':folder_ID,'kind': \"drive#fileLink\"}],\n",
        "    # The mimetype defines this new file as a folder, so don't change this.\n",
        "    #'mimeType' : 'application/vnd.google-apps.folder'\n",
        "}\n",
        "def zipfolder(foldername, target_dir):            \n",
        "    zipobj = zipfile.ZipFile(foldername + '.zip', 'w', zipfile.ZIP_DEFLATED)\n",
        "    rootlen = len(target_dir) + 1\n",
        "    for base, dirs, files in os.walk(target_dir):\n",
        "        for file in files:\n",
        "            fn = os.path.join(base, file)\n",
        "            zipobj.write(fn, fn[rootlen:])\n",
        "\n",
        "zipfolder(zipname, os.path.join(\"/content/\",a))\n",
        "\n",
        "# 1. Authenticate and create the PyDrive client.\n",
        "auth.authenticate_user()\n",
        "gauth = GoogleAuth()\n",
        "gauth.credentials = GoogleCredentials.get_application_default()\n",
        "drive = GoogleDrive(gauth)\n",
        "\n",
        "# 2. Create & upload a file text file.\n",
        "file1 = drive.CreateFile(folder_metadata)\n",
        "file1.SetContentFile(zipname+\".zip\")\n",
        "file1.Upload()"
      ],
      "execution_count": 17,
      "outputs": []
    },
    {
      "cell_type": "code",
      "metadata": {
        "id": "tEPbWyh9WEGa",
        "cellView": "form"
      },
      "source": [
        "#@title Step 6: UnZip\n",
        "\n",
        "import os, zipfile\n",
        "\n",
        "dir_name = \"/content/drive/My Drive/\"+folder_Name+\"/\"+a\n",
        "extension = \".zip\"\n",
        "colab = \"/content/drive/My Drive/\"+folder_Name+\"/\"+a+\".zip\"\n",
        "delete_filepath = \"/content/drive/My Drive/\"+folder_Name+\"/\"+a+\".zip\"\n",
        "zip_ref = zipfile.ZipFile(colab,'r')\n",
        "zip_ref.extractall(dir_name)\n",
        "os.remove(delete_filepath)\n",
        "zip_ref.close()"
      ],
      "execution_count": 18,
      "outputs": []
    },
    {
      "cell_type": "code",
      "metadata": {
        "id": "wSCN_i5MY4Mt"
      },
      "source": [
        ""
      ],
      "execution_count": null,
      "outputs": []
    },
    {
      "cell_type": "code",
      "metadata": {
        "id": "vwSZfkbEWbOV"
      },
      "source": [
        ""
      ],
      "execution_count": null,
      "outputs": []
    }
  ]
}